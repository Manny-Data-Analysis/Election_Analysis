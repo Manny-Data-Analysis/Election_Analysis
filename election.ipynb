{
 "cells": [
  {
   "cell_type": "code",
   "execution_count": 1,
   "metadata": {
    "collapsed": true,
    "pycharm": {
     "name": "#%%\n"
    }
   },
   "outputs": [],
   "source": [
    "# Import the dependencies\n",
    "import pandas as pd\n",
    "import csv\n",
    "import os"
   ]
  },
  {
   "cell_type": "code",
   "execution_count": 2,
   "outputs": [
    {
     "name": "stdout",
     "output_type": "stream",
     "text": [
      "dataset/election_results.csv\n"
     ]
    }
   ],
   "source": [
    "# Import the dataset\n",
    "file = os.path.join('dataset', 'election_results.csv')\n",
    "print(file)"
   ],
   "metadata": {
    "collapsed": false,
    "pycharm": {
     "name": "#%%\n"
    }
   }
  },
  {
   "cell_type": "code",
   "execution_count": 29,
   "outputs": [
    {
     "name": "stdout",
     "output_type": "stream",
     "text": [
      "Candidate\n"
     ]
    }
   ],
   "source": [
    "# Opening the election csv file and using list comprehension to put it in a list creating a list of lists\n",
    "with open(file,'r') as data_file:\n",
    "    election = [result for result in csv.reader(data_file)]\n",
    "    # print(len(election))\n",
    "    print(election[0][2])\n",
    "\n",
    "    total_num_votes = len(election)\n",
    "\n"
   ],
   "metadata": {
    "collapsed": false,
    "pycharm": {
     "name": "#%%\n"
    }
   }
  },
  {
   "cell_type": "code",
   "execution_count": 25,
   "outputs": [
    {
     "name": "stdout",
     "output_type": "stream",
     "text": [
      "<class 'str'>\n",
      "369712\n"
     ]
    }
   ],
   "source": [
    "# Reads the lines and returns strings\n",
    "with open(file,'r') as data_file:\n",
    "    election = data_file.readlines()\n",
    "\n",
    "    total_num_votes = len(election)\n",
    "    # print(type(election[1]))\n",
    "    # print(len(election))"
   ],
   "metadata": {
    "collapsed": false,
    "pycharm": {
     "name": "#%%\n"
    }
   }
  },
  {
   "cell_type": "code",
   "execution_count": 31,
   "outputs": [
    {
     "name": "stdout",
     "output_type": "stream",
     "text": [
      "369711\n"
     ]
    }
   ],
   "source": [
    "with open(file,'r') as data_file:\n",
    "    election = [results for results in csv.DictReader(data_file)]\n",
    "\n",
    "    num_voters = len(election)\n",
    "    print(num_voters)\n",
    "    # print(type(election[3]))\n",
    "    # print(type(election))\n",
    "    # print(len(election))\n"
   ],
   "metadata": {
    "collapsed": false,
    "pycharm": {
     "name": "#%%\n"
    }
   }
  },
  {
   "cell_type": "code",
   "execution_count": null,
   "outputs": [],
   "source": [],
   "metadata": {
    "collapsed": false,
    "pycharm": {
     "name": "#%%\n"
    }
   }
  }
 ],
 "metadata": {
  "kernelspec": {
   "display_name": "Python 3",
   "language": "python",
   "name": "python3"
  },
  "language_info": {
   "codemirror_mode": {
    "name": "ipython",
    "version": 2
   },
   "file_extension": ".py",
   "mimetype": "text/x-python",
   "name": "python",
   "nbconvert_exporter": "python",
   "pygments_lexer": "ipython2",
   "version": "2.7.6"
  }
 },
 "nbformat": 4,
 "nbformat_minor": 0
}